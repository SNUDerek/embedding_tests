{
 "cells": [
  {
   "cell_type": "markdown",
   "metadata": {},
   "source": [
    "# create bow-sentence embeddings\n",
    "\n",
    "using the word vectors trained in previous"
   ]
  },
  {
   "cell_type": "code",
   "execution_count": 1,
   "metadata": {},
   "outputs": [],
   "source": [
    "import pandas as pd\n",
    "import numpy as np\n",
    "from scipy.spatial.distance import cosine"
   ]
  },
  {
   "cell_type": "code",
   "execution_count": 2,
   "metadata": {},
   "outputs": [
    {
     "data": {
      "text/html": [
       "<div>\n",
       "<style scoped>\n",
       "    .dataframe tbody tr th:only-of-type {\n",
       "        vertical-align: middle;\n",
       "    }\n",
       "\n",
       "    .dataframe tbody tr th {\n",
       "        vertical-align: top;\n",
       "    }\n",
       "\n",
       "    .dataframe thead th {\n",
       "        text-align: right;\n",
       "    }\n",
       "</style>\n",
       "<table border=\"1\" class=\"dataframe\">\n",
       "  <thead>\n",
       "    <tr style=\"text-align: right;\">\n",
       "      <th></th>\n",
       "      <th>0</th>\n",
       "      <th>1</th>\n",
       "      <th>2</th>\n",
       "      <th>3</th>\n",
       "      <th>4</th>\n",
       "      <th>5</th>\n",
       "      <th>6</th>\n",
       "      <th>7</th>\n",
       "      <th>8</th>\n",
       "    </tr>\n",
       "  </thead>\n",
       "  <tbody>\n",
       "    <tr>\n",
       "      <th>0</th>\n",
       "      <td>5523.0</td>\n",
       "      <td>0</td>\n",
       "      <td>amex_01a.xml</td>\n",
       "      <td>1</td>\n",
       "      <td>caller</td>\n",
       "      <td>my name is B C. and i would like to plan a trip.</td>\n",
       "      <td>내 이름은 B. C. 나는 여행을 계획하고 싶습니다.</td>\n",
       "      <td>stateIntent</td>\n",
       "      <td>none</td>\n",
       "    </tr>\n",
       "    <tr>\n",
       "      <th>1</th>\n",
       "      <td>5524.0</td>\n",
       "      <td>1</td>\n",
       "      <td>amex_01a.xml</td>\n",
       "      <td>2</td>\n",
       "      <td>agent</td>\n",
       "      <td>and the date you need to leave?</td>\n",
       "      <td>떠나야하는 날짜?</td>\n",
       "      <td>reqInfo</td>\n",
       "      <td>date</td>\n",
       "    </tr>\n",
       "    <tr>\n",
       "      <th>2</th>\n",
       "      <td>5525.0</td>\n",
       "      <td>2</td>\n",
       "      <td>amex_01a.xml</td>\n",
       "      <td>3</td>\n",
       "      <td>caller</td>\n",
       "      <td>well um i have to work a little bit backwards ...</td>\n",
       "      <td>음, 여기서 좀 거꾸로 돌아와야 해.</td>\n",
       "      <td>answer-stateConstraint</td>\n",
       "      <td>location</td>\n",
       "    </tr>\n",
       "    <tr>\n",
       "      <th>3</th>\n",
       "      <td>5526.0</td>\n",
       "      <td>3</td>\n",
       "      <td>amex_01a.xml</td>\n",
       "      <td>4</td>\n",
       "      <td>agent</td>\n",
       "      <td>ok.</td>\n",
       "      <td>예.</td>\n",
       "      <td>acknowledge</td>\n",
       "      <td>none</td>\n",
       "    </tr>\n",
       "    <tr>\n",
       "      <th>4</th>\n",
       "      <td>5527.0</td>\n",
       "      <td>4</td>\n",
       "      <td>amex_01a.xml</td>\n",
       "      <td>5</td>\n",
       "      <td>caller</td>\n",
       "      <td>i want to leave on the first flight out of ORD...</td>\n",
       "      <td>나는 ORD에서 첫 비행을 떠나고 싶다. 월요일 아침에.</td>\n",
       "      <td>refer</td>\n",
       "      <td>time-day</td>\n",
       "    </tr>\n",
       "  </tbody>\n",
       "</table>\n",
       "</div>"
      ],
      "text/plain": [
       "        0  1             2  3       4  \\\n",
       "0  5523.0  0  amex_01a.xml  1  caller   \n",
       "1  5524.0  1  amex_01a.xml  2   agent   \n",
       "2  5525.0  2  amex_01a.xml  3  caller   \n",
       "3  5526.0  3  amex_01a.xml  4   agent   \n",
       "4  5527.0  4  amex_01a.xml  5  caller   \n",
       "\n",
       "                                                   5  \\\n",
       "0  my name is B C. and i would like to plan a trip.    \n",
       "1                   and the date you need to leave?    \n",
       "2  well um i have to work a little bit backwards ...   \n",
       "3                                               ok.    \n",
       "4  i want to leave on the first flight out of ORD...   \n",
       "\n",
       "                                 6                       7         8  \n",
       "0    내 이름은 B. C. 나는 여행을 계획하고 싶습니다.             stateIntent      none  \n",
       "1                        떠나야하는 날짜?                 reqInfo      date  \n",
       "2             음, 여기서 좀 거꾸로 돌아와야 해.  answer-stateConstraint  location  \n",
       "3                               예.             acknowledge      none  \n",
       "4  나는 ORD에서 첫 비행을 떠나고 싶다. 월요일 아침에.                   refer  time-day  "
      ]
     },
     "execution_count": 2,
     "metadata": {},
     "output_type": "execute_result"
    }
   ],
   "source": [
    "# read data and format (strip punct, lower, # token replace)\n",
    "rawdata = pd.read_csv(\"data/merged_corpus_phrases_new.csv\", header=None)\n",
    "rawdata.head()"
   ]
  },
  {
   "cell_type": "code",
   "execution_count": 3,
   "metadata": {},
   "outputs": [],
   "source": [
    "messages = rawdata[5].tolist()\n",
    "def stripit(s):\n",
    "    s = s.lower()\n",
    "    for p in ['.', ',', '?', '-']:\n",
    "        s = s.replace(p, '')\n",
    "    for n in ['1','2','3','4','5','6','7','8','9','0']:\n",
    "        s = s.replace(n, '#')\n",
    "    return s\n",
    "messages = [stripit(s) for s in messages]\n",
    "sent_toks = [s.split() for s in messages]"
   ]
  },
  {
   "cell_type": "code",
   "execution_count": 4,
   "metadata": {},
   "outputs": [],
   "source": [
    "speechacts = rawdata[7].tolist()\n",
    "np.save(\"dbases/speech_acts.npy\", speechacts)\n",
    "topics = rawdata[8].tolist()\n",
    "np.save(\"dbases/topics.npy\", topics)"
   ]
  },
  {
   "cell_type": "code",
   "execution_count": 5,
   "metadata": {},
   "outputs": [
    {
     "data": {
      "text/plain": [
       "(2095, 200)"
      ]
     },
     "execution_count": 5,
     "metadata": {},
     "output_type": "execute_result"
    }
   ],
   "source": [
    "vectors = np.load(\"dbases/w2v_word_vectors.npy\")\n",
    "vocab = list(np.load(\"dbases/w2v_word_tokens.npy\"))\n",
    "vectors.shape"
   ]
  },
  {
   "cell_type": "code",
   "execution_count": 6,
   "metadata": {},
   "outputs": [],
   "source": [
    "def bowvect(toks, vocab, vectors):\n",
    "    idxes = []\n",
    "    for t in toks:\n",
    "        if t in vocab:\n",
    "            idxes.append(vocab.index(t))\n",
    "    tokvects = vectors[idxes]\n",
    "    if tokvects.shape[0] == 0:\n",
    "        tokvects = np.zeros(vectors.shape[1])\n",
    "    sentvect = np.mean(tokvects, axis=0)\n",
    "    return sentvect"
   ]
  },
  {
   "cell_type": "code",
   "execution_count": 7,
   "metadata": {},
   "outputs": [
    {
     "data": {
      "text/plain": [
       "(200,)"
      ]
     },
     "execution_count": 7,
     "metadata": {},
     "output_type": "execute_result"
    }
   ],
   "source": [
    "bowvect([\"london\", \"euston\"], vocab, vectors).shape"
   ]
  },
  {
   "cell_type": "markdown",
   "metadata": {},
   "source": [
    "# sent vects and save"
   ]
  },
  {
   "cell_type": "code",
   "execution_count": 8,
   "metadata": {},
   "outputs": [],
   "source": [
    "sent_vects = []\n",
    "for s in sent_toks:\n",
    "    sent_vects.append(bowvect(s, vocab, vectors))"
   ]
  },
  {
   "cell_type": "code",
   "execution_count": 9,
   "metadata": {},
   "outputs": [],
   "source": [
    "def sent_sim(s1, s2, vocab, vectors):\n",
    "    v1 = bowvect(stripit(s1), vocab, vectors)\n",
    "    v2 = bowvect(stripit(s2), vocab, vectors)\n",
    "    similarity = 1 - cosine(v1, v2)\n",
    "    return similarity"
   ]
  },
  {
   "cell_type": "code",
   "execution_count": 10,
   "metadata": {},
   "outputs": [
    {
     "data": {
      "text/plain": [
       "0.91372931003570557"
      ]
     },
     "execution_count": 10,
     "metadata": {},
     "output_type": "execute_result"
    }
   ],
   "source": [
    "sent_sim(\"to london euston on october 3rd\", \"to london on september 1st\", vocab, vectors)"
   ]
  },
  {
   "cell_type": "code",
   "execution_count": 11,
   "metadata": {},
   "outputs": [
    {
     "data": {
      "text/plain": [
       "0.55625003576278687"
      ]
     },
     "execution_count": 11,
     "metadata": {},
     "output_type": "execute_result"
    }
   ],
   "source": [
    "sent_sim(\"to london euston on october #rd\", \"hello sandra speaking\", vocab, vectors)"
   ]
  },
  {
   "cell_type": "code",
   "execution_count": 12,
   "metadata": {},
   "outputs": [],
   "source": [
    "# save"
   ]
  },
  {
   "cell_type": "code",
   "execution_count": 13,
   "metadata": {},
   "outputs": [],
   "source": [
    "np.save(\"dbases/w2v_sent_vectors.npy\", sent_vects)\n",
    "np.save(\"dbases/w2v_sent_tokens.npy\", messages)"
   ]
  },
  {
   "cell_type": "markdown",
   "metadata": {},
   "source": [
    "# checking class"
   ]
  },
  {
   "cell_type": "code",
   "execution_count": 14,
   "metadata": {},
   "outputs": [],
   "source": [
    "class SentSimClass:\n",
    "    \n",
    "    def __init__(self, wvocab, wvectors, sentences):\n",
    "        self.vocab = wvocab\n",
    "        self.vectors = wvectors\n",
    "        self.sentences = sentences\n",
    "        self.sent_toks = [self._stripit(s) for s in sentences]\n",
    "        self.sent_vects = [self._bowvect(s) for s in sent_toks]\n",
    "        \n",
    "    def _stripit(self, s):\n",
    "        s = s.lower()\n",
    "        for p in ['.', ',', '?', '-']:\n",
    "            s = s.replace(p, '')\n",
    "        for n in ['1','2','3','4','5','6','7','8','9','0']:\n",
    "            s = s.replace(n, '#')\n",
    "        return s\n",
    "    \n",
    "    def _bowvect(self, toks):\n",
    "        idxes = []\n",
    "        for t in toks:\n",
    "            if t in self.vocab:\n",
    "                idxes.append(self.vocab.index(t))\n",
    "        tokvects = self.vectors[idxes]\n",
    "        if tokvects.shape[0] == 0:\n",
    "            tokvects = np.zeros(self.vectors[0].shape[0])\n",
    "        sentvect = np.mean(tokvects, axis=0)\n",
    "        return sentvect\n",
    "    \n",
    "    def sent_sim(self, s1, s2):\n",
    "        v1 = self._bowvect(self._stripit(s1))\n",
    "        v2 = self._bowvect(self._stripit(s2))\n",
    "        similarity = 1 - cosine(v1, v2)\n",
    "        return similarity\n",
    "    \n",
    "    def bestsent(self, sent, n=10):\n",
    "        similarities = [self.sent_sim(sent, toks) for toks in self.sent_toks]\n",
    "        tuples = list(zip(similarities, self.sentences))\n",
    "        tuples = sorted(tuples, key = lambda x: x[0], reverse=True)\n",
    "        return tuples[:n]\n",
    "        "
   ]
  },
  {
   "cell_type": "code",
   "execution_count": 15,
   "metadata": {},
   "outputs": [],
   "source": [
    "clio = SentSimClass(vocab, vectors, messages)"
   ]
  },
  {
   "cell_type": "code",
   "execution_count": 16,
   "metadata": {},
   "outputs": [
    {
     "data": {
      "text/plain": [
       "[(0.98653578758239746,\n",
       "  'i i hesitate uh for him particularly to get anything uh because he does change a lot '),\n",
       " (0.98597294092178345, \"certainly oh ok great that's fine \"),\n",
       " (0.98476600646972656, 'ok i he wants this changed also '),\n",
       " (0.98158979415893555,\n",
       "  \"i already have and everything in chicago ok i i had what's what's the total cost on that then \"),\n",
       " (0.98130744695663452,\n",
       "  \"so if we do that i'm going to have to send it off to the airlines for faring and i can't guarantee how fast they'll come back with a fare \"),\n",
       " (0.98115324974060059, 'uh what are we changing this to '),\n",
       " (0.98064440488815308, 'what city are they travelling to '),\n",
       " (0.98032605648040771,\n",
       "  \"now i'm just going to check to see what's the cheapest fare available with the first class ticket ok then \"),\n",
       " (0.98006981611251831, 'ge are there any direct flights at all '),\n",
       " (0.97971230745315552, \"i'm just checking it now er yeah nan that's \")]"
      ]
     },
     "execution_count": 16,
     "metadata": {},
     "output_type": "execute_result"
    }
   ],
   "source": [
    "clio.bestsent('are there any flights to chicago')"
   ]
  },
  {
   "cell_type": "code",
   "execution_count": null,
   "metadata": {},
   "outputs": [],
   "source": []
  }
 ],
 "metadata": {
  "kernelspec": {
   "display_name": "Python 3",
   "language": "python",
   "name": "python3"
  },
  "language_info": {
   "codemirror_mode": {
    "name": "ipython",
    "version": 3
   },
   "file_extension": ".py",
   "mimetype": "text/x-python",
   "name": "python",
   "nbconvert_exporter": "python",
   "pygments_lexer": "ipython3",
   "version": "3.6.3"
  }
 },
 "nbformat": 4,
 "nbformat_minor": 2
}
