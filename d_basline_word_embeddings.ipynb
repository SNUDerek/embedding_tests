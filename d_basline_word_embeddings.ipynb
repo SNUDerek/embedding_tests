{
 "cells": [
  {
   "cell_type": "markdown",
   "metadata": {},
   "source": [
    "# create custom word2vec embeddings\n",
    "\n",
    "use a mix of in-domain data (= the merged corpus sentences) and general domain data from the Brown corpus"
   ]
  },
  {
   "cell_type": "code",
   "execution_count": 1,
   "metadata": {},
   "outputs": [
    {
     "name": "stderr",
     "output_type": "stream",
     "text": [
      "Using TensorFlow backend.\n",
      "/home/derek/miniconda3/lib/python3.6/importlib/_bootstrap.py:219: RuntimeWarning: compiletime version 3.5 of module 'tensorflow.python.framework.fast_tensor_util' does not match runtime version 3.6\n",
      "  return f(*args, **kwds)\n"
     ]
    }
   ],
   "source": [
    "import pandas as pd\n",
    "import numpy as np\n",
    "from data.preprocessing import get_vocab, index_sents\n",
    "from data.embedding import create_embeddings"
   ]
  },
  {
   "cell_type": "markdown",
   "metadata": {},
   "source": [
    "## in-domain text - lowercased"
   ]
  },
  {
   "cell_type": "code",
   "execution_count": 2,
   "metadata": {},
   "outputs": [],
   "source": [
    "# read in in-domain text from csv\n",
    "data = pd.read_csv(\"data/merged_corpus.csv\",  dtype=object)\n",
    "data['message'] = [str(s).lower() for s in data['message'].tolist()]\n",
    "# combine phrases by dialog and turn\n",
    "dnum = data['dialog_num'].tolist()\n",
    "tnum = data['turn_num'].tolist()\n",
    "join = [str(dnum[i])+'-'+str(tnum[i]) for i in range(len(dnum))]\n",
    "data['diag-turn'] = join\n",
    "agg = (data[['filename', 'diag-turn', 'message']].groupby('diag-turn')['filename', 'message']).agg({'filename': max, 'message': lambda x: \" \".join(x)})\n",
    "# get messagedata for embedding\n",
    "messagedata = agg['message'].tolist()"
   ]
  },
  {
   "cell_type": "markdown",
   "metadata": {},
   "source": [
    "## generic token for number"
   ]
  },
  {
   "cell_type": "code",
   "execution_count": 3,
   "metadata": {},
   "outputs": [],
   "source": [
    "for idx, sent in enumerate(messagedata):\n",
    "    for number in ['1','2','3','4','5','6','7','8','9','0']:\n",
    "        sent = sent.replace(number, '#')\n",
    "    messagedata[idx] = sent"
   ]
  },
  {
   "cell_type": "code",
   "execution_count": 4,
   "metadata": {},
   "outputs": [
    {
     "data": {
      "text/plain": [
       "(2094,\n",
       " [('#', 2266),\n",
       "  ('the', 2123),\n",
       "  ('to', 1592),\n",
       "  ('and', 1304),\n",
       "  ('you', 1299),\n",
       "  ('a', 1049),\n",
       "  ('ok', 1008),\n",
       "  ('i', 884),\n",
       "  ('that', 824),\n",
       "  ('is', 806)])"
      ]
     },
     "execution_count": 4,
     "metadata": {},
     "output_type": "execute_result"
    }
   ],
   "source": [
    "sent_lists = [s.split() for s in messagedata]\n",
    "vocab = [w for s in sent_lists for w in s]\n",
    "from collections import Counter\n",
    "vset = set(vocab)\n",
    "vcount = Counter(vocab)\n",
    "len(vset), vcount.most_common(10)"
   ]
  },
  {
   "cell_type": "code",
   "execution_count": null,
   "metadata": {},
   "outputs": [],
   "source": []
  },
  {
   "cell_type": "code",
   "execution_count": null,
   "metadata": {},
   "outputs": [],
   "source": []
  },
  {
   "cell_type": "markdown",
   "metadata": {},
   "source": [
    "## make embeddings"
   ]
  },
  {
   "cell_type": "code",
   "execution_count": 5,
   "metadata": {},
   "outputs": [],
   "source": [
    "# sentence embeddings\n",
    "\n",
    "with open('embeddings/sent_text.txt', 'w') as f:\n",
    "    for s in messagedata:\n",
    "        f.write(s)\n",
    "        f.write('\\n')\n",
    "\n",
    "w2v_vocab, w2v_model = create_embeddings('embeddings/sent_text.txt',\n",
    "                       embeddings_path='embeddings/text_embeddings.gensimmodel',\n",
    "                       vocab_path='embeddings/text_mapping.json',\n",
    "                       min_count=1,\n",
    "                       workers=3,\n",
    "                       window=2,\n",
    "                       size = 200,\n",
    "                       iter=100)"
   ]
  },
  {
   "cell_type": "markdown",
   "metadata": {},
   "source": [
    "## testing"
   ]
  },
  {
   "cell_type": "code",
   "execution_count": 6,
   "metadata": {},
   "outputs": [
    {
     "name": "stderr",
     "output_type": "stream",
     "text": [
      "/home/derek/miniconda3/lib/python3.6/site-packages/ipykernel_launcher.py:1: DeprecationWarning: Call to deprecated `most_similar` (Method will be removed in 4.0.0, use self.wv.most_similar() instead).\n",
      "  \"\"\"Entry point for launching an IPython kernel.\n"
     ]
    },
    {
     "data": {
      "text/plain": [
       "[('nuneaton', 0.7189363837242126),\n",
       " ('belgium', 0.664460301399231),\n",
       " ('oxenholme', 0.6525389552116394),\n",
       " ('leicester', 0.6495381593704224),\n",
       " ('liver...', 0.6245436072349548),\n",
       " ('crewe', 0.6223902702331543),\n",
       " ('st', 0.6179313659667969),\n",
       " ('milton', 0.6135971546173096),\n",
       " ('newcastle', 0.6130064725875854),\n",
       " ('wilmslow', 0.6126270294189453)]"
      ]
     },
     "execution_count": 6,
     "metadata": {},
     "output_type": "execute_result"
    }
   ],
   "source": [
    "w2v_model.most_similar('london')"
   ]
  },
  {
   "cell_type": "code",
   "execution_count": 7,
   "metadata": {},
   "outputs": [
    {
     "name": "stderr",
     "output_type": "stream",
     "text": [
      "/home/derek/miniconda3/lib/python3.6/site-packages/ipykernel_launcher.py:1: DeprecationWarning: Call to deprecated `most_similar` (Method will be removed in 4.0.0, use self.wv.most_similar() instead).\n",
      "  \"\"\"Entry point for launching an IPython kernel.\n"
     ]
    },
    {
     "data": {
      "text/plain": [
       "[('oc...', 0.7103371620178223),\n",
       " ('oct...', 0.6883060336112976),\n",
       " ('september', 0.6130481958389282),\n",
       " ('#rd', 0.6111972332000732),\n",
       " ('july', 0.6088545322418213),\n",
       " ('##thh', 0.5986887216567993),\n",
       " ('august', 0.5922772288322449),\n",
       " ('sound', 0.5872155427932739),\n",
       " ('june', 0.5760065317153931),\n",
       " ('tue...', 0.5300031900405884)]"
      ]
     },
     "execution_count": 7,
     "metadata": {},
     "output_type": "execute_result"
    }
   ],
   "source": [
    "w2v_model.most_similar('october')"
   ]
  },
  {
   "cell_type": "code",
   "execution_count": 8,
   "metadata": {},
   "outputs": [
    {
     "name": "stderr",
     "output_type": "stream",
     "text": [
      "/home/derek/miniconda3/lib/python3.6/site-packages/ipykernel_launcher.py:1: DeprecationWarning: Call to deprecated `most_similar` (Method will be removed in 4.0.0, use self.wv.most_similar() instead).\n",
      "  \"\"\"Entry point for launching an IPython kernel.\n"
     ]
    },
    {
     "data": {
      "text/plain": [
       "[('no-penalty', 0.48533979058265686),\n",
       " ('###', 0.4440538287162781),\n",
       " ('cost', 0.4330407679080963),\n",
       " ('highest', 0.42370176315307617),\n",
       " ('airfare', 0.4071648120880127),\n",
       " ('confirm...', 0.39975813031196594),\n",
       " ('dollars', 0.3952631950378418),\n",
       " ('price', 0.39081698656082153),\n",
       " ('lowest', 0.3906240463256836),\n",
       " ('ticket', 0.36182576417922974)]"
      ]
     },
     "execution_count": 8,
     "metadata": {},
     "output_type": "execute_result"
    }
   ],
   "source": [
    "w2v_model.most_similar('fare')"
   ]
  },
  {
   "cell_type": "code",
   "execution_count": 9,
   "metadata": {},
   "outputs": [
    {
     "name": "stderr",
     "output_type": "stream",
     "text": [
      "/home/derek/miniconda3/lib/python3.6/site-packages/ipykernel_launcher.py:1: DeprecationWarning: Call to deprecated `most_similar` (Method will be removed in 4.0.0, use self.wv.most_similar() instead).\n",
      "  \"\"\"Entry point for launching an IPython kernel.\n"
     ]
    },
    {
     "data": {
      "text/plain": [
       "[('##:##', 0.7114031314849854),\n",
       " ('chicago', 0.5114167332649231),\n",
       " ('ottawa', 0.5102850198745728),\n",
       " ('toronto', 0.4970610737800598),\n",
       " ('pittsburg', 0.48194795846939087),\n",
       " ('newark', 0.4803212881088257),\n",
       " ('atlanta', 0.474539577960968),\n",
       " ('p', 0.4721252918243408),\n",
       " ('leaves', 0.469747930765152),\n",
       " ('leaving', 0.46557193994522095)]"
      ]
     },
     "execution_count": 9,
     "metadata": {},
     "output_type": "execute_result"
    }
   ],
   "source": [
    "w2v_model.most_similar('#:##')"
   ]
  },
  {
   "cell_type": "markdown",
   "metadata": {},
   "source": [
    "## save words as dbase"
   ]
  },
  {
   "cell_type": "code",
   "execution_count": 10,
   "metadata": {},
   "outputs": [],
   "source": [
    "vocab = list(w2v_vocab.keys())"
   ]
  },
  {
   "cell_type": "code",
   "execution_count": 11,
   "metadata": {},
   "outputs": [
    {
     "name": "stderr",
     "output_type": "stream",
     "text": [
      "/home/derek/miniconda3/lib/python3.6/site-packages/ipykernel_launcher.py:1: DeprecationWarning: Call to deprecated `__getitem__` (Method will be removed in 4.0.0, use self.wv.__getitem__() instead).\n",
      "  \"\"\"Entry point for launching an IPython kernel.\n"
     ]
    }
   ],
   "source": [
    "vectors = [w2v_model[w] for w in vocab]"
   ]
  },
  {
   "cell_type": "code",
   "execution_count": 12,
   "metadata": {},
   "outputs": [],
   "source": [
    "tuples = [(vocab[i], vectors[i]) for i in range(len(vocab))]"
   ]
  },
  {
   "cell_type": "code",
   "execution_count": 13,
   "metadata": {},
   "outputs": [],
   "source": [
    "# save\n",
    "np.save(\"dbases/w2v_word_vectors.npy\", vectors)\n",
    "np.save(\"dbases/w2v_word_tokens.npy\", vocab)"
   ]
  },
  {
   "cell_type": "code",
   "execution_count": null,
   "metadata": {},
   "outputs": [],
   "source": []
  }
 ],
 "metadata": {
  "kernelspec": {
   "display_name": "Python 3",
   "language": "python",
   "name": "python3"
  },
  "language_info": {
   "codemirror_mode": {
    "name": "ipython",
    "version": 3
   },
   "file_extension": ".py",
   "mimetype": "text/x-python",
   "name": "python",
   "nbconvert_exporter": "python",
   "pygments_lexer": "ipython3",
   "version": "3.6.3"
  }
 },
 "nbformat": 4,
 "nbformat_minor": 2
}
