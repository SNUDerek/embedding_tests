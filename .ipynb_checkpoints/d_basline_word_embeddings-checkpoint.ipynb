{
 "cells": [
  {
   "cell_type": "markdown",
   "metadata": {},
   "source": [
    "# create custom word2vec embeddings\n",
    "\n",
    "use a mix of in-domain data (= the merged corpus sentences) and general domain data from the Brown corpus"
   ]
  },
  {
   "cell_type": "code",
   "execution_count": 3,
   "metadata": {},
   "outputs": [],
   "source": [
    "import pandas as pd\n",
    "import numpy as np\n",
    "from data.preprocessing import get_vocab, index_sents\n",
    "from data.embedding import create_embeddings"
   ]
  },
  {
   "cell_type": "markdown",
   "metadata": {},
   "source": [
    "## in-domain text - lowercased"
   ]
  },
  {
   "cell_type": "code",
   "execution_count": 28,
   "metadata": {},
   "outputs": [],
   "source": [
    "# read in in-domain text from csv\n",
    "data = pd.read_csv(\"data/merged_corpus.csv\",  dtype=object)\n",
    "data['message'] = [str(s).lower() for s in data['message'].tolist()]\n",
    "# combine phrases by dialog and turn\n",
    "dnum = data['dialog_num'].tolist()\n",
    "tnum = data['turn_num'].tolist()\n",
    "join = [str(dnum[i])+'-'+str(tnum[i]) for i in range(len(dnum))]\n",
    "data['diag-turn'] = join\n",
    "agg = (data[['filename', 'diag-turn', 'message']].groupby('diag-turn')['filename', 'message']).agg({'filename': max, 'message': lambda x: \" \".join(x)})\n",
    "# get messagedata for embedding\n",
    "messagedata = agg['message'].tolist()"
   ]
  },
  {
   "cell_type": "markdown",
   "metadata": {},
   "source": [
    "## generic token for number"
   ]
  },
  {
   "cell_type": "code",
   "execution_count": 31,
   "metadata": {},
   "outputs": [],
   "source": [
    "for idx, sent in enumerate(messagedata):\n",
    "    for number in ['1','2','3','4','5','6','7','8','9','0']:\n",
    "        sent = sent.replace(number, '#')\n",
    "    messagedata[idx] = sent"
   ]
  },
  {
   "cell_type": "code",
   "execution_count": 32,
   "metadata": {},
   "outputs": [
    {
     "data": {
      "text/plain": [
       "(2094,\n",
       " [('#', 2266),\n",
       "  ('the', 2123),\n",
       "  ('to', 1592),\n",
       "  ('and', 1304),\n",
       "  ('you', 1299),\n",
       "  ('a', 1049),\n",
       "  ('ok', 1008),\n",
       "  ('i', 884),\n",
       "  ('that', 824),\n",
       "  ('is', 806)])"
      ]
     },
     "execution_count": 32,
     "metadata": {},
     "output_type": "execute_result"
    }
   ],
   "source": [
    "sent_lists = [s.split() for s in messagedata]\n",
    "vocab = [w for s in sent_lists for w in s]\n",
    "from collections import Counter\n",
    "vset = set(vocab)\n",
    "vcount = Counter(vocab)\n",
    "len(vset), vcount.most_common(10)"
   ]
  },
  {
   "cell_type": "code",
   "execution_count": null,
   "metadata": {},
   "outputs": [],
   "source": []
  },
  {
   "cell_type": "code",
   "execution_count": null,
   "metadata": {},
   "outputs": [],
   "source": []
  },
  {
   "cell_type": "markdown",
   "metadata": {},
   "source": [
    "## make embeddings"
   ]
  },
  {
   "cell_type": "code",
   "execution_count": 40,
   "metadata": {},
   "outputs": [],
   "source": [
    "# sentence embeddings\n",
    "\n",
    "with open('embeddings/sent_text.txt', 'w') as f:\n",
    "    for s in messagedata:\n",
    "        f.write(s)\n",
    "        f.write('\\n')\n",
    "\n",
    "w2v_vocab, w2v_model = create_embeddings('embeddings/sent_text.txt',\n",
    "                       embeddings_path='embeddings/text_embeddings.gensimmodel',\n",
    "                       vocab_path='embeddings/text_mapping.json',\n",
    "                       min_count=1,\n",
    "                       workers=3,\n",
    "                       window=2,\n",
    "                       size = 200,\n",
    "                       iter=100)"
   ]
  },
  {
   "cell_type": "markdown",
   "metadata": {},
   "source": [
    "## testing"
   ]
  },
  {
   "cell_type": "code",
   "execution_count": 41,
   "metadata": {},
   "outputs": [
    {
     "name": "stderr",
     "output_type": "stream",
     "text": [
      "/home/derek/miniconda3/lib/python3.6/site-packages/ipykernel_launcher.py:1: DeprecationWarning: Call to deprecated `most_similar` (Method will be removed in 4.0.0, use self.wv.most_similar() instead).\n",
      "  \"\"\"Entry point for launching an IPython kernel.\n"
     ]
    },
    {
     "data": {
      "text/plain": [
       "[('picadilly', 0.6531261205673218),\n",
       " ('newton', 0.6403654217720032),\n",
       " ('nuneaton', 0.6250064969062805),\n",
       " ('oxenholme', 0.6003653407096863),\n",
       " ('manchester', 0.59767085313797),\n",
       " ('durham', 0.5939592719078064),\n",
       " ('abbot', 0.5903021097183228),\n",
       " ('stockport', 0.5874806046485901),\n",
       " ('lime', 0.5781711935997009),\n",
       " ('leeds', 0.5557770133018494)]"
      ]
     },
     "execution_count": 41,
     "metadata": {},
     "output_type": "execute_result"
    }
   ],
   "source": [
    "w2v_model.most_similar('london')"
   ]
  },
  {
   "cell_type": "code",
   "execution_count": 42,
   "metadata": {},
   "outputs": [
    {
     "name": "stderr",
     "output_type": "stream",
     "text": [
      "/home/derek/miniconda3/lib/python3.6/site-packages/ipykernel_launcher.py:1: DeprecationWarning: Call to deprecated `most_similar` (Method will be removed in 4.0.0, use self.wv.most_similar() instead).\n",
      "  \"\"\"Entry point for launching an IPython kernel.\n"
     ]
    },
    {
     "data": {
      "text/plain": [
       "[('#rd', 0.6840100288391113),\n",
       " ('oc...', 0.6128817200660706),\n",
       " ('oxenholme', 0.5798947215080261),\n",
       " ('departing', 0.5255531668663025),\n",
       " ('september', 0.5176909565925598),\n",
       " ('oct...', 0.5145875215530396),\n",
       " ('july', 0.5116774439811707),\n",
       " ('sound', 0.5103180408477783),\n",
       " ('august', 0.500715970993042),\n",
       " ('june', 0.4903396666049957)]"
      ]
     },
     "execution_count": 42,
     "metadata": {},
     "output_type": "execute_result"
    }
   ],
   "source": [
    "w2v_model.most_similar('october')"
   ]
  },
  {
   "cell_type": "code",
   "execution_count": 45,
   "metadata": {},
   "outputs": [
    {
     "name": "stderr",
     "output_type": "stream",
     "text": [
      "/home/derek/miniconda3/lib/python3.6/site-packages/ipykernel_launcher.py:1: DeprecationWarning: Call to deprecated `most_similar` (Method will be removed in 4.0.0, use self.wv.most_similar() instead).\n",
      "  \"\"\"Entry point for launching an IPython kernel.\n"
     ]
    },
    {
     "data": {
      "text/plain": [
       "[('###', 0.4405091106891632),\n",
       " ('lowest', 0.4356326162815094),\n",
       " ('no-penalty', 0.40968069434165955),\n",
       " ('dollars', 0.39331701397895813),\n",
       " ('rate', 0.39215022325515747),\n",
       " ('highest', 0.389152467250824),\n",
       " ('price', 0.3886524438858032),\n",
       " ('pay', 0.3725178837776184),\n",
       " ('breakdown', 0.36974477767944336),\n",
       " ('####', 0.35946911573410034)]"
      ]
     },
     "execution_count": 45,
     "metadata": {},
     "output_type": "execute_result"
    }
   ],
   "source": [
    "w2v_model.most_similar('fare')"
   ]
  },
  {
   "cell_type": "code",
   "execution_count": 43,
   "metadata": {},
   "outputs": [
    {
     "name": "stderr",
     "output_type": "stream",
     "text": [
      "/home/derek/miniconda3/lib/python3.6/site-packages/ipykernel_launcher.py:1: DeprecationWarning: Call to deprecated `most_similar` (Method will be removed in 4.0.0, use self.wv.most_similar() instead).\n",
      "  \"\"\"Entry point for launching an IPython kernel.\n"
     ]
    },
    {
     "data": {
      "text/plain": [
       "[('##:##', 0.6567469835281372),\n",
       " ('m', 0.5426019430160522),\n",
       " ('dallas', 0.5395098924636841),\n",
       " ('p', 0.5222725868225098),\n",
       " ('chicago', 0.5026193261146545),\n",
       " ('non-stop', 0.4850623607635498),\n",
       " ('atlanta', 0.47605758905410767),\n",
       " ('greenbay', 0.47013577818870544),\n",
       " ('ottawa', 0.4697186350822449),\n",
       " ('toronto', 0.4678325951099396)]"
      ]
     },
     "execution_count": 43,
     "metadata": {},
     "output_type": "execute_result"
    }
   ],
   "source": [
    "w2v_model.most_similar('#:##')"
   ]
  },
  {
   "cell_type": "markdown",
   "metadata": {},
   "source": [
    "## save words as dbase"
   ]
  },
  {
   "cell_type": "code",
   "execution_count": 51,
   "metadata": {},
   "outputs": [],
   "source": [
    "vocab = list(w2v_vocab.keys())"
   ]
  },
  {
   "cell_type": "code",
   "execution_count": 57,
   "metadata": {},
   "outputs": [
    {
     "name": "stderr",
     "output_type": "stream",
     "text": [
      "/home/derek/miniconda3/lib/python3.6/site-packages/ipykernel_launcher.py:1: DeprecationWarning: Call to deprecated `__getitem__` (Method will be removed in 4.0.0, use self.wv.__getitem__() instead).\n",
      "  \"\"\"Entry point for launching an IPython kernel.\n"
     ]
    }
   ],
   "source": [
    "vectors = [w2v_model[w] for w in vocab]"
   ]
  },
  {
   "cell_type": "code",
   "execution_count": 58,
   "metadata": {},
   "outputs": [],
   "source": [
    "tuples = [(vocab[i], vectors[i]) for i in range(len(vocab))]"
   ]
  },
  {
   "cell_type": "code",
   "execution_count": 62,
   "metadata": {},
   "outputs": [],
   "source": [
    "# save\n",
    "np.save(\"dbases/w2v_word_vectors.npy\", vectors)\n",
    "np.save(\"dbases/w2v_word_tokens.npy\", vocab)"
   ]
  },
  {
   "cell_type": "code",
   "execution_count": null,
   "metadata": {},
   "outputs": [],
   "source": []
  }
 ],
 "metadata": {
  "kernelspec": {
   "display_name": "Python 3",
   "language": "python",
   "name": "python3"
  },
  "language_info": {
   "codemirror_mode": {
    "name": "ipython",
    "version": 3
   },
   "file_extension": ".py",
   "mimetype": "text/x-python",
   "name": "python",
   "nbconvert_exporter": "python",
   "pygments_lexer": "ipython3",
   "version": "3.6.3"
  }
 },
 "nbformat": 4,
 "nbformat_minor": 2
}
